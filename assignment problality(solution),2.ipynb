{
 "cells": [
  {
   "cell_type": "code",
   "execution_count": 6,
   "id": "fa3aebb6-ea69-4d9b-a8ea-901dc8322365",
   "metadata": {
    "vscode": {
     "languageId": "r"
    }
   },
   "outputs": [
    {
     "name": "stderr",
     "output_type": "stream",
     "text": [
      "Parsed with column specification:\n",
      "cols(\n",
      "  ID = col_double(),\n",
      "  AGE = col_double(),\n",
      "  EDUCATIONAL_LEVEL = col_double(),\n",
      "  SMOKING_STATUS = col_double(),\n",
      "  EXERCISE = col_double(),\n",
      "  WEIGHT = col_double(),\n",
      "  SERUM_CHOLESTOROL = col_double(),\n",
      "  SYSTOLIC_PRESSURE = col_double(),\n",
      "  IQ = col_double(),\n",
      "  SODIUM = col_double(),\n",
      "  GENDER = col_double(),\n",
      "  MARTIAL_STATUS = col_double()\n",
      ")\n"
     ]
    },
    {
     "name": "stdout",
     "output_type": "stream",
     "text": [
      "Classes 'spec_tbl_df', 'tbl_df', 'tbl' and 'data.frame':\t100 obs. of  12 variables:\n",
      " $ ID               : num  1 2 3 4 5 6 7 8 9 10 ...\n",
      " $ AGE              : num  27 18 32 24 19 56 65 36 43 47 ...\n",
      " $ EDUCATIONAL_LEVEL: num  2 1 2 2 1 1 1 2 1 1 ...\n",
      " $ SMOKING_STATUS   : num  1 0 0 0 2 0 2 1 0 1 ...\n",
      " $ EXERCISE         : num  1 1 0 1 0 0 0 0 1 1 ...\n",
      " $ WEIGHT           : num  120 145 118 162 106 143 160 215 127 132 ...\n",
      " $ SERUM_CHOLESTOROL: num  193 210 196 208 188 206 240 215 201 215 ...\n",
      " $ SYSTOLIC_PRESSURE: num  126 120 128 129 119 136 131 163 132 138 ...\n",
      " $ IQ               : num  118 105 115 108 106 111 99 106 111 109 ...\n",
      " $ SODIUM           : num  136 137 135 142 133 138 140 151 134 135 ...\n",
      " $ GENDER           : num  2 1 2 1 2 2 1 1 2 2 ...\n",
      " $ MARTIAL_STATUS   : num  2 1 2 2 1 3 3 4 2 4 ...\n",
      " - attr(*, \"spec\")=\n",
      "  .. cols(\n",
      "  ..   ID = col_double(),\n",
      "  ..   AGE = col_double(),\n",
      "  ..   EDUCATIONAL_LEVEL = col_double(),\n",
      "  ..   SMOKING_STATUS = col_double(),\n",
      "  ..   EXERCISE = col_double(),\n",
      "  ..   WEIGHT = col_double(),\n",
      "  ..   SERUM_CHOLESTOROL = col_double(),\n",
      "  ..   SYSTOLIC_PRESSURE = col_double(),\n",
      "  ..   IQ = col_double(),\n",
      "  ..   SODIUM = col_double(),\n",
      "  ..   GENDER = col_double(),\n",
      "  ..   MARTIAL_STATUS = col_double()\n",
      "  .. )\n"
     ]
    },
    {
     "data": {
      "text/html": [
       "<table>\n",
       "<thead><tr><th scope=col>ID</th><th scope=col>AGE</th><th scope=col>EDUCATIONAL_LEVEL</th><th scope=col>SMOKING_STATUS</th><th scope=col>EXERCISE</th><th scope=col>WEIGHT</th><th scope=col>SERUM_CHOLESTOROL</th><th scope=col>SYSTOLIC_PRESSURE</th><th scope=col>IQ</th><th scope=col>SODIUM</th><th scope=col>GENDER</th><th scope=col>MARTIAL_STATUS</th></tr></thead>\n",
       "<tbody>\n",
       "\t<tr><td> 1 </td><td>27 </td><td>2  </td><td>1  </td><td>1  </td><td>120</td><td>193</td><td>126</td><td>118</td><td>136</td><td>2  </td><td>2  </td></tr>\n",
       "\t<tr><td> 2 </td><td>18 </td><td>1  </td><td>0  </td><td>1  </td><td>145</td><td>210</td><td>120</td><td>105</td><td>137</td><td>1  </td><td>1  </td></tr>\n",
       "\t<tr><td> 3 </td><td>32 </td><td>2  </td><td>0  </td><td>0  </td><td>118</td><td>196</td><td>128</td><td>115</td><td>135</td><td>2  </td><td>2  </td></tr>\n",
       "\t<tr><td> 4 </td><td>24 </td><td>2  </td><td>0  </td><td>1  </td><td>162</td><td>208</td><td>129</td><td>108</td><td>142</td><td>1  </td><td>2  </td></tr>\n",
       "\t<tr><td> 5 </td><td>19 </td><td>1  </td><td>2  </td><td>0  </td><td>106</td><td>188</td><td>119</td><td>106</td><td>133</td><td>2  </td><td>1  </td></tr>\n",
       "\t<tr><td> 6 </td><td>56 </td><td>1  </td><td>0  </td><td>0  </td><td>143</td><td>206</td><td>136</td><td>111</td><td>138</td><td>2  </td><td>3  </td></tr>\n",
       "\t<tr><td> 7 </td><td>65 </td><td>1  </td><td>2  </td><td>0  </td><td>160</td><td>240</td><td>131</td><td> 99</td><td>140</td><td>1  </td><td>3  </td></tr>\n",
       "\t<tr><td> 8 </td><td>36 </td><td>2  </td><td>1  </td><td>0  </td><td>215</td><td>215</td><td>163</td><td>106</td><td>151</td><td>1  </td><td>4  </td></tr>\n",
       "\t<tr><td> 9 </td><td>43 </td><td>1  </td><td>0  </td><td>1  </td><td>127</td><td>201</td><td>132</td><td>111</td><td>134</td><td>2  </td><td>2  </td></tr>\n",
       "\t<tr><td>10 </td><td>47 </td><td>1  </td><td>1  </td><td>1  </td><td>132</td><td>215</td><td>138</td><td>109</td><td>135</td><td>2  </td><td>4  </td></tr>\n",
       "\t<tr><td>11 </td><td>48 </td><td>3  </td><td>1  </td><td>2  </td><td>196</td><td>199</td><td>148</td><td>115</td><td>146</td><td>1  </td><td>4  </td></tr>\n",
       "\t<tr><td>12 </td><td>25 </td><td>2  </td><td>2  </td><td>3  </td><td>109</td><td>210</td><td>115</td><td>114</td><td>141</td><td>2  </td><td>1  </td></tr>\n",
       "\t<tr><td>13 </td><td>63 </td><td>0  </td><td>1  </td><td>0  </td><td>170</td><td>242</td><td>149</td><td>101</td><td>152</td><td>2  </td><td>4  </td></tr>\n",
       "\t<tr><td>14 </td><td>37 </td><td>2  </td><td>0  </td><td>3  </td><td>187</td><td>193</td><td>142</td><td>109</td><td>144</td><td>1  </td><td>2  </td></tr>\n",
       "\t<tr><td>15 </td><td>40 </td><td>0  </td><td>1  </td><td>1  </td><td>234</td><td>208</td><td>156</td><td> 98</td><td>147</td><td>1  </td><td>2  </td></tr>\n",
       "\t<tr><td>16 </td><td>25 </td><td>1  </td><td>2  </td><td>1  </td><td>199</td><td>253</td><td>135</td><td>103</td><td>148</td><td>1  </td><td>1  </td></tr>\n",
       "\t<tr><td>17 </td><td>72 </td><td>0  </td><td>0  </td><td>0  </td><td>143</td><td>288</td><td>156</td><td>103</td><td>145</td><td>2  </td><td>2  </td></tr>\n",
       "\t<tr><td>18 </td><td>56 </td><td>1  </td><td>1  </td><td>0  </td><td>156</td><td>164</td><td>153</td><td> 99</td><td>144</td><td>2  </td><td>4  </td></tr>\n",
       "\t<tr><td>19 </td><td>37 </td><td>2  </td><td>0  </td><td>2  </td><td>142</td><td>214</td><td>122</td><td>110</td><td>135</td><td>1  </td><td>2  </td></tr>\n",
       "\t<tr><td>20 </td><td>41 </td><td>1  </td><td>1  </td><td>1  </td><td>123</td><td>220</td><td>142</td><td>108</td><td>134</td><td>2  </td><td>2  </td></tr>\n",
       "\t<tr><td>21 </td><td>33 </td><td>2  </td><td>1  </td><td>1  </td><td>165</td><td>194</td><td>122</td><td>112</td><td>137</td><td>1  </td><td>1  </td></tr>\n",
       "\t<tr><td>22 </td><td>52 </td><td>1  </td><td>0  </td><td>1  </td><td>157</td><td>205</td><td>119</td><td>106</td><td>134</td><td>1  </td><td>4  </td></tr>\n",
       "\t<tr><td>23 </td><td>44 </td><td>2  </td><td>0  </td><td>1  </td><td>121</td><td>223</td><td>135</td><td>116</td><td>133</td><td>2  </td><td>2  </td></tr>\n",
       "\t<tr><td>24 </td><td>53 </td><td>1  </td><td>0  </td><td>0  </td><td>131</td><td>199</td><td>133</td><td>121</td><td>136</td><td>2  </td><td>2  </td></tr>\n",
       "\t<tr><td>25 </td><td>19 </td><td>1  </td><td>0  </td><td>3  </td><td>128</td><td>206</td><td>118</td><td>122</td><td>132</td><td>1  </td><td>1  </td></tr>\n",
       "\t<tr><td>26 </td><td>25 </td><td>1  </td><td>0  </td><td>0  </td><td>143</td><td>200</td><td>118</td><td>103</td><td>135</td><td>1  </td><td>2  </td></tr>\n",
       "\t<tr><td>27 </td><td>31 </td><td>2  </td><td>1  </td><td>1  </td><td>152</td><td>204</td><td>120</td><td>119</td><td>136</td><td>1  </td><td>2  </td></tr>\n",
       "\t<tr><td>28 </td><td>28 </td><td>2  </td><td>0  </td><td>0  </td><td>119</td><td>203</td><td>118</td><td>116</td><td>138</td><td>2  </td><td>2  </td></tr>\n",
       "\t<tr><td>29 </td><td>23 </td><td>1  </td><td>0  </td><td>0  </td><td>111</td><td>240</td><td>120</td><td>105</td><td>135</td><td>2  </td><td>1  </td></tr>\n",
       "\t<tr><td>30 </td><td>47 </td><td>2  </td><td>1  </td><td>0  </td><td>149</td><td>199</td><td>132</td><td>123</td><td>136</td><td>2  </td><td>2  </td></tr>\n",
       "\t<tr><td>...</td><td>...</td><td>...</td><td>...</td><td>...</td><td>...</td><td>...</td><td>...</td><td>...</td><td>...</td><td>...</td><td>...</td></tr>\n",
       "\t<tr><td> 71</td><td>45 </td><td>1  </td><td>1  </td><td>1  </td><td>185</td><td>229</td><td>125</td><td>101</td><td>143</td><td>1  </td><td>2  </td></tr>\n",
       "\t<tr><td> 72</td><td>44 </td><td>3  </td><td>0  </td><td>0  </td><td>130</td><td>215</td><td>128</td><td>128</td><td>137</td><td>2  </td><td>2  </td></tr>\n",
       "\t<tr><td> 73</td><td>50 </td><td>1  </td><td>0  </td><td>0  </td><td>142</td><td>232</td><td>135</td><td>104</td><td>138</td><td>2  </td><td>2  </td></tr>\n",
       "\t<tr><td> 74</td><td>63 </td><td>0  </td><td>0  </td><td>0  </td><td>166</td><td>271</td><td>143</td><td>103</td><td>147</td><td>2  </td><td>3  </td></tr>\n",
       "\t<tr><td> 75</td><td>48 </td><td>1  </td><td>0  </td><td>3  </td><td>163</td><td>203</td><td>131</td><td>103</td><td>144</td><td>1  </td><td>2  </td></tr>\n",
       "\t<tr><td> 76</td><td>27 </td><td>2  </td><td>0  </td><td>3  </td><td>147</td><td>186</td><td>118</td><td>114</td><td>134</td><td>1  </td><td>2  </td></tr>\n",
       "\t<tr><td> 77</td><td>31 </td><td>3  </td><td>1  </td><td>1  </td><td>152</td><td>228</td><td>116</td><td>126</td><td>138</td><td>1  </td><td>4  </td></tr>\n",
       "\t<tr><td> 78</td><td>28 </td><td>2  </td><td>0  </td><td>2  </td><td>112</td><td>197</td><td>120</td><td>123</td><td>133</td><td>2  </td><td>2  </td></tr>\n",
       "\t<tr><td> 79</td><td>36 </td><td>2  </td><td>1  </td><td>2  </td><td>190</td><td>226</td><td>123</td><td>121</td><td>147</td><td>1  </td><td>2  </td></tr>\n",
       "\t<tr><td> 80</td><td>43 </td><td>3  </td><td>2  </td><td>0  </td><td>179</td><td>252</td><td>127</td><td>131</td><td>145</td><td>1  </td><td>4  </td></tr>\n",
       "\t<tr><td> 81</td><td>21 </td><td>1  </td><td>0  </td><td>1  </td><td>117</td><td>185</td><td>116</td><td>105</td><td>137</td><td>2  </td><td>1  </td></tr>\n",
       "\t<tr><td> 82</td><td>32 </td><td>2  </td><td>1  </td><td>0  </td><td>125</td><td>193</td><td>123</td><td>119</td><td>135</td><td>2  </td><td>2  </td></tr>\n",
       "\t<tr><td> 83</td><td>29 </td><td>2  </td><td>1  </td><td>0  </td><td>123</td><td>192</td><td>131</td><td>116</td><td>131</td><td>2  </td><td>4  </td></tr>\n",
       "\t<tr><td> 84</td><td>49 </td><td>2  </td><td>2  </td><td>1  </td><td>185</td><td>190</td><td>129</td><td>127</td><td>144</td><td>1  </td><td>2  </td></tr>\n",
       "\t<tr><td> 85</td><td>24 </td><td>1  </td><td>1  </td><td>1  </td><td>133</td><td>237</td><td>121</td><td>114</td><td>129</td><td>1  </td><td>2  </td></tr>\n",
       "\t<tr><td> 86</td><td>36 </td><td>2  </td><td>0  </td><td>2  </td><td>163</td><td>195</td><td>115</td><td>119</td><td>139</td><td>1  </td><td>2  </td></tr>\n",
       "\t<tr><td> 87</td><td>34 </td><td>1  </td><td>2  </td><td>0  </td><td>135</td><td>199</td><td>133</td><td>117</td><td>135</td><td>2  </td><td>2  </td></tr>\n",
       "\t<tr><td> 88</td><td>36 </td><td>0  </td><td>0  </td><td>1  </td><td>142</td><td>216</td><td>138</td><td> 88</td><td>137</td><td>2  </td><td>2  </td></tr>\n",
       "\t<tr><td> 89</td><td>29 </td><td>1  </td><td>1  </td><td>1  </td><td>155</td><td>214</td><td>120</td><td> 98</td><td>135</td><td>1  </td><td>1  </td></tr>\n",
       "\t<tr><td> 90</td><td>42 </td><td>0  </td><td>0  </td><td>2  </td><td>169</td><td>201</td><td>123</td><td> 96</td><td>137</td><td>1  </td><td>4  </td></tr>\n",
       "\t<tr><td> 91</td><td>41 </td><td>1  </td><td>1  </td><td>1  </td><td>136</td><td>214</td><td>133</td><td>102</td><td>141</td><td>2  </td><td>4  </td></tr>\n",
       "\t<tr><td> 92</td><td>29 </td><td>1  </td><td>1  </td><td>0  </td><td>112</td><td>205</td><td>120</td><td>102</td><td>130</td><td>2  </td><td>2  </td></tr>\n",
       "\t<tr><td> 93</td><td>43 </td><td>1  </td><td>1  </td><td>0  </td><td>185</td><td>208</td><td>127</td><td>100</td><td>143</td><td>1  </td><td>2  </td></tr>\n",
       "\t<tr><td> 94</td><td>61 </td><td>1  </td><td>2  </td><td>0  </td><td>173</td><td>248</td><td>142</td><td>101</td><td>141</td><td>1  </td><td>2  </td></tr>\n",
       "\t<tr><td> 95</td><td>21 </td><td>1  </td><td>1  </td><td>3  </td><td>106</td><td>210</td><td>111</td><td>105</td><td>131</td><td>2  </td><td>1  </td></tr>\n",
       "\t<tr><td> 96</td><td>56 </td><td>0  </td><td>0  </td><td>0  </td><td>149</td><td>232</td><td>142</td><td>103</td><td>141</td><td>2  </td><td>2  </td></tr>\n",
       "\t<tr><td> 97</td><td>63 </td><td>0  </td><td>1  </td><td>0  </td><td>192</td><td>193</td><td>163</td><td> 95</td><td>147</td><td>1  </td><td>2  </td></tr>\n",
       "\t<tr><td> 98</td><td>74 </td><td>1  </td><td>0  </td><td>0  </td><td>162</td><td>247</td><td>151</td><td> 99</td><td>151</td><td>2  </td><td>3  </td></tr>\n",
       "\t<tr><td> 99</td><td>35 </td><td>2  </td><td>0  </td><td>1  </td><td>151</td><td>251</td><td>147</td><td>113</td><td>145</td><td>2  </td><td>2  </td></tr>\n",
       "\t<tr><td>100</td><td>28 </td><td>2  </td><td>0  </td><td>3  </td><td>161</td><td>199</td><td>129</td><td>116</td><td>138</td><td>1  </td><td>2  </td></tr>\n",
       "</tbody>\n",
       "</table>\n"
      ],
      "text/latex": [
       "\\begin{tabular}{r|llllllllllll}\n",
       " ID & AGE & EDUCATIONAL\\_LEVEL & SMOKING\\_STATUS & EXERCISE & WEIGHT & SERUM\\_CHOLESTOROL & SYSTOLIC\\_PRESSURE & IQ & SODIUM & GENDER & MARTIAL\\_STATUS\\\\\n",
       "\\hline\n",
       "\t  1  & 27  & 2   & 1   & 1   & 120 & 193 & 126 & 118 & 136 & 2   & 2  \\\\\n",
       "\t  2  & 18  & 1   & 0   & 1   & 145 & 210 & 120 & 105 & 137 & 1   & 1  \\\\\n",
       "\t  3  & 32  & 2   & 0   & 0   & 118 & 196 & 128 & 115 & 135 & 2   & 2  \\\\\n",
       "\t  4  & 24  & 2   & 0   & 1   & 162 & 208 & 129 & 108 & 142 & 1   & 2  \\\\\n",
       "\t  5  & 19  & 1   & 2   & 0   & 106 & 188 & 119 & 106 & 133 & 2   & 1  \\\\\n",
       "\t  6  & 56  & 1   & 0   & 0   & 143 & 206 & 136 & 111 & 138 & 2   & 3  \\\\\n",
       "\t  7  & 65  & 1   & 2   & 0   & 160 & 240 & 131 &  99 & 140 & 1   & 3  \\\\\n",
       "\t  8  & 36  & 2   & 1   & 0   & 215 & 215 & 163 & 106 & 151 & 1   & 4  \\\\\n",
       "\t  9  & 43  & 1   & 0   & 1   & 127 & 201 & 132 & 111 & 134 & 2   & 2  \\\\\n",
       "\t 10  & 47  & 1   & 1   & 1   & 132 & 215 & 138 & 109 & 135 & 2   & 4  \\\\\n",
       "\t 11  & 48  & 3   & 1   & 2   & 196 & 199 & 148 & 115 & 146 & 1   & 4  \\\\\n",
       "\t 12  & 25  & 2   & 2   & 3   & 109 & 210 & 115 & 114 & 141 & 2   & 1  \\\\\n",
       "\t 13  & 63  & 0   & 1   & 0   & 170 & 242 & 149 & 101 & 152 & 2   & 4  \\\\\n",
       "\t 14  & 37  & 2   & 0   & 3   & 187 & 193 & 142 & 109 & 144 & 1   & 2  \\\\\n",
       "\t 15  & 40  & 0   & 1   & 1   & 234 & 208 & 156 &  98 & 147 & 1   & 2  \\\\\n",
       "\t 16  & 25  & 1   & 2   & 1   & 199 & 253 & 135 & 103 & 148 & 1   & 1  \\\\\n",
       "\t 17  & 72  & 0   & 0   & 0   & 143 & 288 & 156 & 103 & 145 & 2   & 2  \\\\\n",
       "\t 18  & 56  & 1   & 1   & 0   & 156 & 164 & 153 &  99 & 144 & 2   & 4  \\\\\n",
       "\t 19  & 37  & 2   & 0   & 2   & 142 & 214 & 122 & 110 & 135 & 1   & 2  \\\\\n",
       "\t 20  & 41  & 1   & 1   & 1   & 123 & 220 & 142 & 108 & 134 & 2   & 2  \\\\\n",
       "\t 21  & 33  & 2   & 1   & 1   & 165 & 194 & 122 & 112 & 137 & 1   & 1  \\\\\n",
       "\t 22  & 52  & 1   & 0   & 1   & 157 & 205 & 119 & 106 & 134 & 1   & 4  \\\\\n",
       "\t 23  & 44  & 2   & 0   & 1   & 121 & 223 & 135 & 116 & 133 & 2   & 2  \\\\\n",
       "\t 24  & 53  & 1   & 0   & 0   & 131 & 199 & 133 & 121 & 136 & 2   & 2  \\\\\n",
       "\t 25  & 19  & 1   & 0   & 3   & 128 & 206 & 118 & 122 & 132 & 1   & 1  \\\\\n",
       "\t 26  & 25  & 1   & 0   & 0   & 143 & 200 & 118 & 103 & 135 & 1   & 2  \\\\\n",
       "\t 27  & 31  & 2   & 1   & 1   & 152 & 204 & 120 & 119 & 136 & 1   & 2  \\\\\n",
       "\t 28  & 28  & 2   & 0   & 0   & 119 & 203 & 118 & 116 & 138 & 2   & 2  \\\\\n",
       "\t 29  & 23  & 1   & 0   & 0   & 111 & 240 & 120 & 105 & 135 & 2   & 1  \\\\\n",
       "\t 30  & 47  & 2   & 1   & 0   & 149 & 199 & 132 & 123 & 136 & 2   & 2  \\\\\n",
       "\t ... & ... & ... & ... & ... & ... & ... & ... & ... & ... & ... & ...\\\\\n",
       "\t  71 & 45  & 1   & 1   & 1   & 185 & 229 & 125 & 101 & 143 & 1   & 2  \\\\\n",
       "\t  72 & 44  & 3   & 0   & 0   & 130 & 215 & 128 & 128 & 137 & 2   & 2  \\\\\n",
       "\t  73 & 50  & 1   & 0   & 0   & 142 & 232 & 135 & 104 & 138 & 2   & 2  \\\\\n",
       "\t  74 & 63  & 0   & 0   & 0   & 166 & 271 & 143 & 103 & 147 & 2   & 3  \\\\\n",
       "\t  75 & 48  & 1   & 0   & 3   & 163 & 203 & 131 & 103 & 144 & 1   & 2  \\\\\n",
       "\t  76 & 27  & 2   & 0   & 3   & 147 & 186 & 118 & 114 & 134 & 1   & 2  \\\\\n",
       "\t  77 & 31  & 3   & 1   & 1   & 152 & 228 & 116 & 126 & 138 & 1   & 4  \\\\\n",
       "\t  78 & 28  & 2   & 0   & 2   & 112 & 197 & 120 & 123 & 133 & 2   & 2  \\\\\n",
       "\t  79 & 36  & 2   & 1   & 2   & 190 & 226 & 123 & 121 & 147 & 1   & 2  \\\\\n",
       "\t  80 & 43  & 3   & 2   & 0   & 179 & 252 & 127 & 131 & 145 & 1   & 4  \\\\\n",
       "\t  81 & 21  & 1   & 0   & 1   & 117 & 185 & 116 & 105 & 137 & 2   & 1  \\\\\n",
       "\t  82 & 32  & 2   & 1   & 0   & 125 & 193 & 123 & 119 & 135 & 2   & 2  \\\\\n",
       "\t  83 & 29  & 2   & 1   & 0   & 123 & 192 & 131 & 116 & 131 & 2   & 4  \\\\\n",
       "\t  84 & 49  & 2   & 2   & 1   & 185 & 190 & 129 & 127 & 144 & 1   & 2  \\\\\n",
       "\t  85 & 24  & 1   & 1   & 1   & 133 & 237 & 121 & 114 & 129 & 1   & 2  \\\\\n",
       "\t  86 & 36  & 2   & 0   & 2   & 163 & 195 & 115 & 119 & 139 & 1   & 2  \\\\\n",
       "\t  87 & 34  & 1   & 2   & 0   & 135 & 199 & 133 & 117 & 135 & 2   & 2  \\\\\n",
       "\t  88 & 36  & 0   & 0   & 1   & 142 & 216 & 138 &  88 & 137 & 2   & 2  \\\\\n",
       "\t  89 & 29  & 1   & 1   & 1   & 155 & 214 & 120 &  98 & 135 & 1   & 1  \\\\\n",
       "\t  90 & 42  & 0   & 0   & 2   & 169 & 201 & 123 &  96 & 137 & 1   & 4  \\\\\n",
       "\t  91 & 41  & 1   & 1   & 1   & 136 & 214 & 133 & 102 & 141 & 2   & 4  \\\\\n",
       "\t  92 & 29  & 1   & 1   & 0   & 112 & 205 & 120 & 102 & 130 & 2   & 2  \\\\\n",
       "\t  93 & 43  & 1   & 1   & 0   & 185 & 208 & 127 & 100 & 143 & 1   & 2  \\\\\n",
       "\t  94 & 61  & 1   & 2   & 0   & 173 & 248 & 142 & 101 & 141 & 1   & 2  \\\\\n",
       "\t  95 & 21  & 1   & 1   & 3   & 106 & 210 & 111 & 105 & 131 & 2   & 1  \\\\\n",
       "\t  96 & 56  & 0   & 0   & 0   & 149 & 232 & 142 & 103 & 141 & 2   & 2  \\\\\n",
       "\t  97 & 63  & 0   & 1   & 0   & 192 & 193 & 163 &  95 & 147 & 1   & 2  \\\\\n",
       "\t  98 & 74  & 1   & 0   & 0   & 162 & 247 & 151 &  99 & 151 & 2   & 3  \\\\\n",
       "\t  99 & 35  & 2   & 0   & 1   & 151 & 251 & 147 & 113 & 145 & 2   & 2  \\\\\n",
       "\t 100 & 28  & 2   & 0   & 3   & 161 & 199 & 129 & 116 & 138 & 1   & 2  \\\\\n",
       "\\end{tabular}\n"
      ],
      "text/markdown": [
       "\n",
       "| ID | AGE | EDUCATIONAL_LEVEL | SMOKING_STATUS | EXERCISE | WEIGHT | SERUM_CHOLESTOROL | SYSTOLIC_PRESSURE | IQ | SODIUM | GENDER | MARTIAL_STATUS |\n",
       "|---|---|---|---|---|---|---|---|---|---|---|---|\n",
       "|  1  | 27  | 2   | 1   | 1   | 120 | 193 | 126 | 118 | 136 | 2   | 2   |\n",
       "|  2  | 18  | 1   | 0   | 1   | 145 | 210 | 120 | 105 | 137 | 1   | 1   |\n",
       "|  3  | 32  | 2   | 0   | 0   | 118 | 196 | 128 | 115 | 135 | 2   | 2   |\n",
       "|  4  | 24  | 2   | 0   | 1   | 162 | 208 | 129 | 108 | 142 | 1   | 2   |\n",
       "|  5  | 19  | 1   | 2   | 0   | 106 | 188 | 119 | 106 | 133 | 2   | 1   |\n",
       "|  6  | 56  | 1   | 0   | 0   | 143 | 206 | 136 | 111 | 138 | 2   | 3   |\n",
       "|  7  | 65  | 1   | 2   | 0   | 160 | 240 | 131 |  99 | 140 | 1   | 3   |\n",
       "|  8  | 36  | 2   | 1   | 0   | 215 | 215 | 163 | 106 | 151 | 1   | 4   |\n",
       "|  9  | 43  | 1   | 0   | 1   | 127 | 201 | 132 | 111 | 134 | 2   | 2   |\n",
       "| 10  | 47  | 1   | 1   | 1   | 132 | 215 | 138 | 109 | 135 | 2   | 4   |\n",
       "| 11  | 48  | 3   | 1   | 2   | 196 | 199 | 148 | 115 | 146 | 1   | 4   |\n",
       "| 12  | 25  | 2   | 2   | 3   | 109 | 210 | 115 | 114 | 141 | 2   | 1   |\n",
       "| 13  | 63  | 0   | 1   | 0   | 170 | 242 | 149 | 101 | 152 | 2   | 4   |\n",
       "| 14  | 37  | 2   | 0   | 3   | 187 | 193 | 142 | 109 | 144 | 1   | 2   |\n",
       "| 15  | 40  | 0   | 1   | 1   | 234 | 208 | 156 |  98 | 147 | 1   | 2   |\n",
       "| 16  | 25  | 1   | 2   | 1   | 199 | 253 | 135 | 103 | 148 | 1   | 1   |\n",
       "| 17  | 72  | 0   | 0   | 0   | 143 | 288 | 156 | 103 | 145 | 2   | 2   |\n",
       "| 18  | 56  | 1   | 1   | 0   | 156 | 164 | 153 |  99 | 144 | 2   | 4   |\n",
       "| 19  | 37  | 2   | 0   | 2   | 142 | 214 | 122 | 110 | 135 | 1   | 2   |\n",
       "| 20  | 41  | 1   | 1   | 1   | 123 | 220 | 142 | 108 | 134 | 2   | 2   |\n",
       "| 21  | 33  | 2   | 1   | 1   | 165 | 194 | 122 | 112 | 137 | 1   | 1   |\n",
       "| 22  | 52  | 1   | 0   | 1   | 157 | 205 | 119 | 106 | 134 | 1   | 4   |\n",
       "| 23  | 44  | 2   | 0   | 1   | 121 | 223 | 135 | 116 | 133 | 2   | 2   |\n",
       "| 24  | 53  | 1   | 0   | 0   | 131 | 199 | 133 | 121 | 136 | 2   | 2   |\n",
       "| 25  | 19  | 1   | 0   | 3   | 128 | 206 | 118 | 122 | 132 | 1   | 1   |\n",
       "| 26  | 25  | 1   | 0   | 0   | 143 | 200 | 118 | 103 | 135 | 1   | 2   |\n",
       "| 27  | 31  | 2   | 1   | 1   | 152 | 204 | 120 | 119 | 136 | 1   | 2   |\n",
       "| 28  | 28  | 2   | 0   | 0   | 119 | 203 | 118 | 116 | 138 | 2   | 2   |\n",
       "| 29  | 23  | 1   | 0   | 0   | 111 | 240 | 120 | 105 | 135 | 2   | 1   |\n",
       "| 30  | 47  | 2   | 1   | 0   | 149 | 199 | 132 | 123 | 136 | 2   | 2   |\n",
       "| ... | ... | ... | ... | ... | ... | ... | ... | ... | ... | ... | ... |\n",
       "|  71 | 45  | 1   | 1   | 1   | 185 | 229 | 125 | 101 | 143 | 1   | 2   |\n",
       "|  72 | 44  | 3   | 0   | 0   | 130 | 215 | 128 | 128 | 137 | 2   | 2   |\n",
       "|  73 | 50  | 1   | 0   | 0   | 142 | 232 | 135 | 104 | 138 | 2   | 2   |\n",
       "|  74 | 63  | 0   | 0   | 0   | 166 | 271 | 143 | 103 | 147 | 2   | 3   |\n",
       "|  75 | 48  | 1   | 0   | 3   | 163 | 203 | 131 | 103 | 144 | 1   | 2   |\n",
       "|  76 | 27  | 2   | 0   | 3   | 147 | 186 | 118 | 114 | 134 | 1   | 2   |\n",
       "|  77 | 31  | 3   | 1   | 1   | 152 | 228 | 116 | 126 | 138 | 1   | 4   |\n",
       "|  78 | 28  | 2   | 0   | 2   | 112 | 197 | 120 | 123 | 133 | 2   | 2   |\n",
       "|  79 | 36  | 2   | 1   | 2   | 190 | 226 | 123 | 121 | 147 | 1   | 2   |\n",
       "|  80 | 43  | 3   | 2   | 0   | 179 | 252 | 127 | 131 | 145 | 1   | 4   |\n",
       "|  81 | 21  | 1   | 0   | 1   | 117 | 185 | 116 | 105 | 137 | 2   | 1   |\n",
       "|  82 | 32  | 2   | 1   | 0   | 125 | 193 | 123 | 119 | 135 | 2   | 2   |\n",
       "|  83 | 29  | 2   | 1   | 0   | 123 | 192 | 131 | 116 | 131 | 2   | 4   |\n",
       "|  84 | 49  | 2   | 2   | 1   | 185 | 190 | 129 | 127 | 144 | 1   | 2   |\n",
       "|  85 | 24  | 1   | 1   | 1   | 133 | 237 | 121 | 114 | 129 | 1   | 2   |\n",
       "|  86 | 36  | 2   | 0   | 2   | 163 | 195 | 115 | 119 | 139 | 1   | 2   |\n",
       "|  87 | 34  | 1   | 2   | 0   | 135 | 199 | 133 | 117 | 135 | 2   | 2   |\n",
       "|  88 | 36  | 0   | 0   | 1   | 142 | 216 | 138 |  88 | 137 | 2   | 2   |\n",
       "|  89 | 29  | 1   | 1   | 1   | 155 | 214 | 120 |  98 | 135 | 1   | 1   |\n",
       "|  90 | 42  | 0   | 0   | 2   | 169 | 201 | 123 |  96 | 137 | 1   | 4   |\n",
       "|  91 | 41  | 1   | 1   | 1   | 136 | 214 | 133 | 102 | 141 | 2   | 4   |\n",
       "|  92 | 29  | 1   | 1   | 0   | 112 | 205 | 120 | 102 | 130 | 2   | 2   |\n",
       "|  93 | 43  | 1   | 1   | 0   | 185 | 208 | 127 | 100 | 143 | 1   | 2   |\n",
       "|  94 | 61  | 1   | 2   | 0   | 173 | 248 | 142 | 101 | 141 | 1   | 2   |\n",
       "|  95 | 21  | 1   | 1   | 3   | 106 | 210 | 111 | 105 | 131 | 2   | 1   |\n",
       "|  96 | 56  | 0   | 0   | 0   | 149 | 232 | 142 | 103 | 141 | 2   | 2   |\n",
       "|  97 | 63  | 0   | 1   | 0   | 192 | 193 | 163 |  95 | 147 | 1   | 2   |\n",
       "|  98 | 74  | 1   | 0   | 0   | 162 | 247 | 151 |  99 | 151 | 2   | 3   |\n",
       "|  99 | 35  | 2   | 0   | 1   | 151 | 251 | 147 | 113 | 145 | 2   | 2   |\n",
       "| 100 | 28  | 2   | 0   | 3   | 161 | 199 | 129 | 116 | 138 | 1   | 2   |\n",
       "\n"
      ],
      "text/plain": [
       "    ID  AGE EDUCATIONAL_LEVEL SMOKING_STATUS EXERCISE WEIGHT SERUM_CHOLESTOROL\n",
       "1    1  27  2                 1              1        120    193              \n",
       "2    2  18  1                 0              1        145    210              \n",
       "3    3  32  2                 0              0        118    196              \n",
       "4    4  24  2                 0              1        162    208              \n",
       "5    5  19  1                 2              0        106    188              \n",
       "6    6  56  1                 0              0        143    206              \n",
       "7    7  65  1                 2              0        160    240              \n",
       "8    8  36  2                 1              0        215    215              \n",
       "9    9  43  1                 0              1        127    201              \n",
       "10  10  47  1                 1              1        132    215              \n",
       "11  11  48  3                 1              2        196    199              \n",
       "12  12  25  2                 2              3        109    210              \n",
       "13  13  63  0                 1              0        170    242              \n",
       "14  14  37  2                 0              3        187    193              \n",
       "15  15  40  0                 1              1        234    208              \n",
       "16  16  25  1                 2              1        199    253              \n",
       "17  17  72  0                 0              0        143    288              \n",
       "18  18  56  1                 1              0        156    164              \n",
       "19  19  37  2                 0              2        142    214              \n",
       "20  20  41  1                 1              1        123    220              \n",
       "21  21  33  2                 1              1        165    194              \n",
       "22  22  52  1                 0              1        157    205              \n",
       "23  23  44  2                 0              1        121    223              \n",
       "24  24  53  1                 0              0        131    199              \n",
       "25  25  19  1                 0              3        128    206              \n",
       "26  26  25  1                 0              0        143    200              \n",
       "27  27  31  2                 1              1        152    204              \n",
       "28  28  28  2                 0              0        119    203              \n",
       "29  29  23  1                 0              0        111    240              \n",
       "30  30  47  2                 1              0        149    199              \n",
       "... ... ... ...               ...            ...      ...    ...              \n",
       "71   71 45  1                 1              1        185    229              \n",
       "72   72 44  3                 0              0        130    215              \n",
       "73   73 50  1                 0              0        142    232              \n",
       "74   74 63  0                 0              0        166    271              \n",
       "75   75 48  1                 0              3        163    203              \n",
       "76   76 27  2                 0              3        147    186              \n",
       "77   77 31  3                 1              1        152    228              \n",
       "78   78 28  2                 0              2        112    197              \n",
       "79   79 36  2                 1              2        190    226              \n",
       "80   80 43  3                 2              0        179    252              \n",
       "81   81 21  1                 0              1        117    185              \n",
       "82   82 32  2                 1              0        125    193              \n",
       "83   83 29  2                 1              0        123    192              \n",
       "84   84 49  2                 2              1        185    190              \n",
       "85   85 24  1                 1              1        133    237              \n",
       "86   86 36  2                 0              2        163    195              \n",
       "87   87 34  1                 2              0        135    199              \n",
       "88   88 36  0                 0              1        142    216              \n",
       "89   89 29  1                 1              1        155    214              \n",
       "90   90 42  0                 0              2        169    201              \n",
       "91   91 41  1                 1              1        136    214              \n",
       "92   92 29  1                 1              0        112    205              \n",
       "93   93 43  1                 1              0        185    208              \n",
       "94   94 61  1                 2              0        173    248              \n",
       "95   95 21  1                 1              3        106    210              \n",
       "96   96 56  0                 0              0        149    232              \n",
       "97   97 63  0                 1              0        192    193              \n",
       "98   98 74  1                 0              0        162    247              \n",
       "99   99 35  2                 0              1        151    251              \n",
       "100 100 28  2                 0              3        161    199              \n",
       "    SYSTOLIC_PRESSURE IQ  SODIUM GENDER MARTIAL_STATUS\n",
       "1   126               118 136    2      2             \n",
       "2   120               105 137    1      1             \n",
       "3   128               115 135    2      2             \n",
       "4   129               108 142    1      2             \n",
       "5   119               106 133    2      1             \n",
       "6   136               111 138    2      3             \n",
       "7   131                99 140    1      3             \n",
       "8   163               106 151    1      4             \n",
       "9   132               111 134    2      2             \n",
       "10  138               109 135    2      4             \n",
       "11  148               115 146    1      4             \n",
       "12  115               114 141    2      1             \n",
       "13  149               101 152    2      4             \n",
       "14  142               109 144    1      2             \n",
       "15  156                98 147    1      2             \n",
       "16  135               103 148    1      1             \n",
       "17  156               103 145    2      2             \n",
       "18  153                99 144    2      4             \n",
       "19  122               110 135    1      2             \n",
       "20  142               108 134    2      2             \n",
       "21  122               112 137    1      1             \n",
       "22  119               106 134    1      4             \n",
       "23  135               116 133    2      2             \n",
       "24  133               121 136    2      2             \n",
       "25  118               122 132    1      1             \n",
       "26  118               103 135    1      2             \n",
       "27  120               119 136    1      2             \n",
       "28  118               116 138    2      2             \n",
       "29  120               105 135    2      1             \n",
       "30  132               123 136    2      2             \n",
       "... ...               ... ...    ...    ...           \n",
       "71  125               101 143    1      2             \n",
       "72  128               128 137    2      2             \n",
       "73  135               104 138    2      2             \n",
       "74  143               103 147    2      3             \n",
       "75  131               103 144    1      2             \n",
       "76  118               114 134    1      2             \n",
       "77  116               126 138    1      4             \n",
       "78  120               123 133    2      2             \n",
       "79  123               121 147    1      2             \n",
       "80  127               131 145    1      4             \n",
       "81  116               105 137    2      1             \n",
       "82  123               119 135    2      2             \n",
       "83  131               116 131    2      4             \n",
       "84  129               127 144    1      2             \n",
       "85  121               114 129    1      2             \n",
       "86  115               119 139    1      2             \n",
       "87  133               117 135    2      2             \n",
       "88  138                88 137    2      2             \n",
       "89  120                98 135    1      1             \n",
       "90  123                96 137    1      4             \n",
       "91  133               102 141    2      4             \n",
       "92  120               102 130    2      2             \n",
       "93  127               100 143    1      2             \n",
       "94  142               101 141    1      2             \n",
       "95  111               105 131    2      1             \n",
       "96  142               103 141    2      2             \n",
       "97  163                95 147    1      2             \n",
       "98  151                99 151    2      3             \n",
       "99  147               113 145    2      2             \n",
       "100 129               116 138    1      2             "
      ]
     },
     "metadata": {},
     "output_type": "display_data"
    }
   ],
   "source": [
    "#question1\n",
    "# Load necessary libraries\n",
    "library(readr)\n",
    "library(dplyr)\n",
    "\n",
    "# Load the dataset\n",
    "data <- read_csv(\"ASSIGNMENT.csv\")\n",
    "\n",
    "# Display the structure of the dataset\n",
    "str(data)\n",
    "data"
   ]
  },
  {
   "cell_type": "code",
   "execution_count": 8,
   "id": "e01cd6d1-222f-456b-b773-54473a5082f1",
   "metadata": {
    "vscode": {
     "languageId": "r"
    }
   },
   "outputs": [
    {
     "data": {
      "text/plain": [
       "\n",
       "\tWelch Two Sample t-test\n",
       "\n",
       "data:  WEIGHT by GENDER\n",
       "t = 9.3164, df = 96.002, p-value = 4.378e-15\n",
       "alternative hypothesis: true difference in means is not equal to 0\n",
       "95 percent confidence interval:\n",
       " 32.02829 49.37171\n",
       "sample estimates:\n",
       "mean in group 1 mean in group 2 \n",
       "         170.38          129.68 \n"
      ]
     },
     "metadata": {},
     "output_type": "display_data"
    },
    {
     "name": "stdout",
     "output_type": "stream",
     "text": [
      "There is a significant difference in the mean of weight between genders.\n"
     ]
    }
   ],
   "source": [
    "# 1\n",
    "t_test_weight_gender<- t.test(WEIGHT~GENDER, data = data)\n",
    "t_test_weight_gender\n",
    "\n",
    "if (t_test_weight_gender$p.value < 0.05) {\n",
    "  cat(\"There is a significant difference in the mean of weight between genders.\\n\")\n",
    "} else {\n",
    "  cat(\"There is no significant difference in the mean of weight between genders.\\n\")\n",
    "}\n"
   ]
  },
  {
   "cell_type": "code",
   "execution_count": 9,
   "id": "6b72aa14-8740-475e-a9a3-96d1f8849cc3",
   "metadata": {
    "vscode": {
     "languageId": "r"
    }
   },
   "outputs": [
    {
     "data": {
      "text/plain": [
       "\n",
       "\tChi-squared test for given probabilities\n",
       "\n",
       "data:  marital_status_table\n",
       "X-squared = 45.2, df = 3, p-value = 8.39e-10\n"
      ]
     },
     "metadata": {},
     "output_type": "display_data"
    },
    {
     "name": "stdout",
     "output_type": "stream",
     "text": [
      "The marital statuses are not equally distributed.\n"
     ]
    }
   ],
   "source": [
    "# 2\n",
    "\n",
    "marital_status_table <-table(data$MARTIAL_STATUS)\n",
    "chi_squared_test_marital_status <-chisq.test(marital_status_table)\n",
    "chi_squared_test_marital_status\n",
    "\n",
    "# Decision\n",
    "if (chi_squared_test_marital_status$p.value < 0.05) {\n",
    "  cat(\"The marital statuses are not equally distributed.\\n\")\n",
    "} else {\n",
    "  cat(\"The marital statuses are equally distributed.\\n\")\n",
    "}"
   ]
  },
  {
   "cell_type": "code",
   "execution_count": 23,
   "id": "43b80007-9a79-4913-b898-04e648e3d4ab",
   "metadata": {
    "vscode": {
     "languageId": "r"
    }
   },
   "outputs": [
    {
     "data": {
      "text/plain": [
       "                                 Df Sum Sq Mean Sq F value Pr(>F)\n",
       "EDUCATIONAL_LEVEL                 1    768   768.3   0.862  0.356\n",
       "SMOKING_STATUS                    1    744   743.8   0.834  0.363\n",
       "EDUCATIONAL_LEVEL:SMOKING_STATUS  1   1089  1089.4   1.222  0.272\n",
       "Residuals                        96  85569   891.3               "
      ]
     },
     "metadata": {},
     "output_type": "display_data"
    },
    {
     "name": "stdout",
     "output_type": "stream",
     "text": [
      "There is no significant interaction effect between education level and smoking status on the weights of the staff.\n"
     ]
    },
    {
     "data": {
      "text/plain": [
       "               Df Sum Sq Mean Sq F value Pr(>F)\n",
       "SMOKING_STATUS  1    873   873.3    0.98  0.325\n",
       "Residuals      98  87298   890.8               "
      ]
     },
     "metadata": {},
     "output_type": "display_data"
    }
   ],
   "source": [
    "\n",
    "#3\n",
    "\n",
    "# Perform an ANOVA to check for interaction effects\n",
    "anova_result <- aov(WEIGHT ~ EDUCATIONAL_LEVEL * SMOKING_STATUS, data = data)\n",
    "summary(anova_result)\n",
    "\n",
    "# Check for interaction effect\n",
    "interaction_p_value <- summary(anova_result)[[1]][\"EDUCATIONAL_LEVEL:SMOKING_STATUS\", \"Pr(>F)\"]\n",
    "\n",
    "# Decision\n",
    "if (interaction_p_value < 0.05) {\n",
    "  cat(\"There is a significant interaction effect between education level and smoking status on the weights of the staff.\\n\")\n",
    "} else {\n",
    "  cat(\"There is no significant interaction effect between education level and smoking status on the weights of the staff.\\n\")\n",
    "  # Perform row effect and column effect analysis\n",
    "  anova_row_effect <- aov(WEIGHT ~ EDUCATIONAL_LEVEL, data = data)\n",
    "  summary(anova_row_effect)\n",
    "  \n",
    "  anova_column_effect <- aov(WEIGHT ~ SMOKING_STATUS, data = data)\n",
    "  summary(anova_column_effect)\n",
    "}\n"
   ]
  },
  {
   "cell_type": "code",
   "execution_count": 12,
   "id": "b8b4b500-8a6b-4059-b464-81fc480907b6",
   "metadata": {
    "vscode": {
     "languageId": "r"
    }
   },
   "outputs": [
    {
     "data": {
      "text/plain": [
       "\n",
       "Call:\n",
       "lm(formula = WEIGHT ~ SERUM_CHOLESTOROL + SYSTOLIC_PRESSURE + \n",
       "    IQ + SODIUM, data = data)\n",
       "\n",
       "Residuals:\n",
       "    Min      1Q  Median      3Q     Max \n",
       "-47.749 -15.737  -0.502  14.399  45.653 \n",
       "\n",
       "Coefficients:\n",
       "                    Estimate Std. Error t value Pr(>|t|)    \n",
       "(Intercept)       -3.486e+02  4.906e+01  -7.105 2.20e-10 ***\n",
       "SERUM_CHOLESTOROL  4.852e-04  9.624e-02   0.005 0.995988    \n",
       "SYSTOLIC_PRESSURE  6.786e-01  1.872e-01   3.625 0.000467 ***\n",
       "IQ                 1.349e-01  2.051e-01   0.657 0.512519    \n",
       "SODIUM             2.842e+00  3.911e-01   7.267 1.02e-10 ***\n",
       "---\n",
       "Signif. codes:  0 '***' 0.001 '**' 0.01 '*' 0.05 '.' 0.1 ' ' 1\n",
       "\n",
       "Residual standard error: 19.3 on 95 degrees of freedom\n",
       "Multiple R-squared:  0.5986,\tAdjusted R-squared:  0.5817 \n",
       "F-statistic: 35.41 on 4 and 95 DF,  p-value: < 2.2e-16\n"
      ]
     },
     "metadata": {},
     "output_type": "display_data"
    },
    {
     "name": "stdout",
     "output_type": "stream",
     "text": [
      "There is no significant relationship between Serum Cholesterol, Systolic Pressure, IQ, and Sodium on the staff weight.\n"
     ]
    }
   ],
   "source": [
    "# 4(a)\n",
    "model <- lm(WEIGHT ~ SERUM_CHOLESTOROL+SYSTOLIC_PRESSURE  + IQ +SODIUM, data = data)\n",
    "summary(model)\n",
    "if (summary(model)$fstatistic[1] < 0.05) {\n",
    "  cat(\"There is a significant relationship between Serum Cholesterol, Systolic Pressure, IQ, and Sodium on the staff weight.\\n\")\n",
    "} else {\n",
    "  cat(\"There is no significant relationship between Serum Cholesterol, Systolic Pressure, IQ, and Sodium on the staff weight.\\n\")\n",
    "}"
   ]
  },
  {
   "cell_type": "code",
   "execution_count": 13,
   "id": "b8df5d26-fb38-4455-83b9-ca133ec9ca8a",
   "metadata": {
    "vscode": {
     "languageId": "r"
    }
   },
   "outputs": [
    {
     "data": {
      "text/html": [
       "<table>\n",
       "<thead><tr><th></th><th scope=col>Estimate</th><th scope=col>Std. Error</th><th scope=col>t value</th><th scope=col>Pr(&gt;|t|)</th></tr></thead>\n",
       "<tbody>\n",
       "\t<tr><th scope=row>(Intercept)</th><td>-348.5924988</td><td>49.0629064  </td><td>-7.105011   </td><td>2.199185e-10</td></tr>\n",
       "\t<tr><th scope=row>SYSTOLIC_PRESSURE</th><td>   0.6786362</td><td> 0.1872199  </td><td> 3.624809   </td><td>4.670916e-04</td></tr>\n",
       "\t<tr><th scope=row>SODIUM</th><td>   2.8418709</td><td> 0.3910830  </td><td> 7.266669   </td><td>1.021966e-10</td></tr>\n",
       "</tbody>\n",
       "</table>\n"
      ],
      "text/latex": [
       "\\begin{tabular}{r|llll}\n",
       "  & Estimate & Std. Error & t value & Pr(>\\textbar{}t\\textbar{})\\\\\n",
       "\\hline\n",
       "\t(Intercept) & -348.5924988 & 49.0629064   & -7.105011    & 2.199185e-10\\\\\n",
       "\tSYSTOLIC\\_PRESSURE &    0.6786362 &  0.1872199   &  3.624809    & 4.670916e-04\\\\\n",
       "\tSODIUM &    2.8418709 &  0.3910830   &  7.266669    & 1.021966e-10\\\\\n",
       "\\end{tabular}\n"
      ],
      "text/markdown": [
       "\n",
       "| <!--/--> | Estimate | Std. Error | t value | Pr(>|t|) |\n",
       "|---|---|---|---|---|\n",
       "| (Intercept) | -348.5924988 | 49.0629064   | -7.105011    | 2.199185e-10 |\n",
       "| SYSTOLIC_PRESSURE |    0.6786362 |  0.1872199   |  3.624809    | 4.670916e-04 |\n",
       "| SODIUM |    2.8418709 |  0.3910830   |  7.266669    | 1.021966e-10 |\n",
       "\n"
      ],
      "text/plain": [
       "                  Estimate     Std. Error t value   Pr(>|t|)    \n",
       "(Intercept)       -348.5924988 49.0629064 -7.105011 2.199185e-10\n",
       "SYSTOLIC_PRESSURE    0.6786362  0.1872199  3.624809 4.670916e-04\n",
       "SODIUM               2.8418709  0.3910830  7.266669 1.021966e-10"
      ]
     },
     "metadata": {},
     "output_type": "display_data"
    },
    {
     "name": "stdout",
     "output_type": "stream",
     "text": [
      "The independent variables that contribute significantly to the regression model are:\n",
      "                      Estimate Std. Error   t value     Pr(>|t|)\n",
      "(Intercept)       -348.5924988 49.0629064 -7.105011 2.199185e-10\n",
      "SYSTOLIC_PRESSURE    0.6786362  0.1872199  3.624809 4.670916e-04\n",
      "SODIUM               2.8418709  0.3910830  7.266669 1.021966e-10\n"
     ]
    }
   ],
   "source": [
    "#4(b)\n",
    "\n",
    "# Display significant variables in the regression model\n",
    "significant_variables <- summary(model)$coefficients[summary(model)$coefficients[, \"Pr(>|t|)\"] < 0.05, ]\n",
    "significant_variables\n",
    "\n",
    "# Decision\n",
    "cat(\"The independent variables that contribute significantly to the regression model are:\\n\")\n",
    "print(significant_variables)\n",
    "\n",
    "# The summary output of the regression model will show the p-values for each coefficient. \n",
    "#Independent variables with p-values less than 0.05 are considered significant contributors.\n"
   ]
  },
  {
   "cell_type": "code",
   "execution_count": 16,
   "id": "3920aeec-6063-4af6-a157-107d3f3f7916",
   "metadata": {
    "vscode": {
     "languageId": "r"
    }
   },
   "outputs": [
    {
     "data": {
      "text/html": [
       "<table>\n",
       "<thead><tr><th></th><th scope=col>WEIGHT</th><th scope=col>SERUM_CHOLESTOROL</th><th scope=col>SYSTOLIC_PRESSURE</th><th scope=col>IQ</th><th scope=col>SODIUM</th></tr></thead>\n",
       "<tbody>\n",
       "\t<tr><th scope=row>WEIGHT</th><td>1.00000000 </td><td> 0.28697185</td><td> 0.5942913 </td><td> 0.05535401</td><td>0.73501060 </td></tr>\n",
       "\t<tr><th scope=row>SERUM_CHOLESTOROL</th><td>0.28697185 </td><td> 1.00000000</td><td> 0.3598088 </td><td>-0.08516793</td><td>0.32252367 </td></tr>\n",
       "\t<tr><th scope=row>SYSTOLIC_PRESSURE</th><td>0.59429135 </td><td> 0.35980878</td><td> 1.0000000 </td><td>-0.11249646</td><td>0.53544105 </td></tr>\n",
       "\t<tr><th scope=row>IQ</th><td>0.05535401 </td><td>-0.08516793</td><td>-0.1124965 </td><td> 1.00000000</td><td>0.07704867 </td></tr>\n",
       "\t<tr><th scope=row>SODIUM</th><td>0.73501060 </td><td> 0.32252367</td><td> 0.5354411 </td><td> 0.07704867</td><td>1.00000000 </td></tr>\n",
       "</tbody>\n",
       "</table>\n"
      ],
      "text/latex": [
       "\\begin{tabular}{r|lllll}\n",
       "  & WEIGHT & SERUM\\_CHOLESTOROL & SYSTOLIC\\_PRESSURE & IQ & SODIUM\\\\\n",
       "\\hline\n",
       "\tWEIGHT & 1.00000000  &  0.28697185 &  0.5942913  &  0.05535401 & 0.73501060 \\\\\n",
       "\tSERUM\\_CHOLESTOROL & 0.28697185  &  1.00000000 &  0.3598088  & -0.08516793 & 0.32252367 \\\\\n",
       "\tSYSTOLIC\\_PRESSURE & 0.59429135  &  0.35980878 &  1.0000000  & -0.11249646 & 0.53544105 \\\\\n",
       "\tIQ & 0.05535401  & -0.08516793 & -0.1124965  &  1.00000000 & 0.07704867 \\\\\n",
       "\tSODIUM & 0.73501060  &  0.32252367 &  0.5354411  &  0.07704867 & 1.00000000 \\\\\n",
       "\\end{tabular}\n"
      ],
      "text/markdown": [
       "\n",
       "| <!--/--> | WEIGHT | SERUM_CHOLESTOROL | SYSTOLIC_PRESSURE | IQ | SODIUM |\n",
       "|---|---|---|---|---|---|\n",
       "| WEIGHT | 1.00000000  |  0.28697185 |  0.5942913  |  0.05535401 | 0.73501060  |\n",
       "| SERUM_CHOLESTOROL | 0.28697185  |  1.00000000 |  0.3598088  | -0.08516793 | 0.32252367  |\n",
       "| SYSTOLIC_PRESSURE | 0.59429135  |  0.35980878 |  1.0000000  | -0.11249646 | 0.53544105  |\n",
       "| IQ | 0.05535401  | -0.08516793 | -0.1124965  |  1.00000000 | 0.07704867  |\n",
       "| SODIUM | 0.73501060  |  0.32252367 |  0.5354411  |  0.07704867 | 1.00000000  |\n",
       "\n"
      ],
      "text/plain": [
       "                  WEIGHT     SERUM_CHOLESTOROL SYSTOLIC_PRESSURE IQ         \n",
       "WEIGHT            1.00000000  0.28697185        0.5942913         0.05535401\n",
       "SERUM_CHOLESTOROL 0.28697185  1.00000000        0.3598088        -0.08516793\n",
       "SYSTOLIC_PRESSURE 0.59429135  0.35980878        1.0000000        -0.11249646\n",
       "IQ                0.05535401 -0.08516793       -0.1124965         1.00000000\n",
       "SODIUM            0.73501060  0.32252367        0.5354411         0.07704867\n",
       "                  SODIUM    \n",
       "WEIGHT            0.73501060\n",
       "SERUM_CHOLESTOROL 0.32252367\n",
       "SYSTOLIC_PRESSURE 0.53544105\n",
       "IQ                0.07704867\n",
       "SODIUM            1.00000000"
      ]
     },
     "metadata": {},
     "output_type": "display_data"
    },
    {
     "data": {
      "text/html": [
       "0.598566554715001"
      ],
      "text/latex": [
       "0.598566554715001"
      ],
      "text/markdown": [
       "0.598566554715001"
      ],
      "text/plain": [
       "[1] 0.5985666"
      ]
     },
     "metadata": {},
     "output_type": "display_data"
    },
    {
     "name": "stdout",
     "output_type": "stream",
     "text": [
      "The coefficient of determination (R-squared) is: 0.5985666 \n"
     ]
    }
   ],
   "source": [
    "# 4(c)\n",
    "correlation_matrix <- cor(data %>% select(WEIGHT, SERUM_CHOLESTOROL,SYSTOLIC_PRESSURE, IQ, SODIUM))\n",
    "correlation_matrix\n",
    "\n",
    "# Coefficient of determination\n",
    "r_squared <- summary(model)$r.squared\n",
    "r_squared\n",
    "\n",
    "# Decision\n",
    "cat(\"The coefficient of determination (R-squared) is:\", r_squared, \"\\n\")\n",
    "\n"
   ]
  },
  {
   "cell_type": "code",
   "execution_count": 22,
   "id": "dcb19c05-d91f-4407-ab9d-10bb85ccb1d1",
   "metadata": {
    "vscode": {
     "languageId": "r"
    }
   },
   "outputs": [
    {
     "name": "stdout",
     "output_type": "stream",
     "text": [
      "The regression model is: WEIGHT = -348.59 + 0 *SERUM_CHOLESTOROL  + 0.68 * SYSTOLIC_PRESSURE + 0.13 * IQ + 2.84 * SODIUM"
     ]
    }
   ],
   "source": [
    "#4(d)\n",
    "#y=mx+c\n",
    "#y=ax+b\n",
    "regression_model <-paste(\"WEIGHT =\",\n",
    "                          round(coefficients(model)[1], 2), \"+\",\n",
    "                          round(coefficients(model)[2], 2), \"*SERUM_CHOLESTOROL  +\",\n",
    "                          round(coefficients(model)[3], 2), \"* SYSTOLIC_PRESSURE +\",\n",
    "                          round(coefficients(model)[4], 2), \"* IQ +\",\n",
    "                          round(coefficients(model)[5], 2), \"* SODIUM\")\n",
    "cat(\"The regression model is:\",regression_model)\n"
   ]
  },
  {
   "cell_type": "code",
   "execution_count": 20,
   "id": "97cc2287-922f-46b8-81d9-7be8a8e3cef6",
   "metadata": {
    "vscode": {
     "languageId": "r"
    }
   },
   "outputs": [
    {
     "name": "stderr",
     "output_type": "stream",
     "text": [
      "Warning message in chisq.test(Data, chisq.test(Data)$expected):\n",
      "\"Chi-squared approximation may be incorrect\""
     ]
    },
    {
     "data": {
      "text/plain": [
       "\n",
       "\tPearson's Chi-squared test\n",
       "\n",
       "data:  Data\n",
       "X-squared = 3.7083, df = 2, p-value = 0.1566\n"
      ]
     },
     "metadata": {},
     "output_type": "display_data"
    },
    {
     "name": "stderr",
     "output_type": "stream",
     "text": [
      "Warning message in chisq.test(data, chisq.test(Data)$expected):\n",
      "\"Chi-squared approximation may be incorrect\""
     ]
    },
    {
     "name": "stdout",
     "output_type": "stream",
     "text": [
      "We can reject the null hypothesis (no relationship) at a significance level of 0.1 . There is a statistically significant relationship between gender and course."
     ]
    }
   ],
   "source": [
    "# 2 \n",
    "Data <- matrix(c(2, 16, 8, 9, 15, 10), nrow = 2, ncol = 3, byrow = TRUE)\n",
    "dimnames(Data) <- list(Gender = c(\"Women\", \"Men\"), Course = c(\"NS\", \"SS\", \"E\"))\n",
    "\n",
    "#  Chi-square test\n",
    "chisq.test(Data, chisq.test(Data)$expected)\n",
    "\n",
    "# Set significance level\n",
    "alpha <- 0.1\n",
    "\n",
    "# Check p-value for significance\n",
    "p.value <- chisq.test(data, chisq.test(Data)$expected)$p.value\n",
    "\n",
    "# Interpret the results\n",
    "if (p.value < alpha) {\n",
    "  cat(\"We can reject the null hypothesis (no relationship) at a significance level of\", alpha, \". There is a statistically significant relationship between gender and course.\")\n",
    "} else {\n",
    "  cat(\"We fail to reject the null hypothesis at a significance level of\", alpha, \". There is not enough evidence to conclude a relationship between gender and course.\")\n",
    "}"
   ]
  },
  {
   "cell_type": "code",
   "execution_count": null,
   "id": "a9ededd5-0c56-49bf-b3db-167dac5a9241",
   "metadata": {
    "vscode": {
     "languageId": "r"
    }
   },
   "outputs": [],
   "source": []
  }
 ],
 "metadata": {
  "kernelspec": {
   "display_name": "R",
   "language": "R",
   "name": "ir"
  },
  "language_info": {
   "codemirror_mode": "r",
   "file_extension": ".r",
   "mimetype": "text/x-r-source",
   "name": "R",
   "pygments_lexer": "r",
   "version": "3.6.1"
  }
 },
 "nbformat": 4,
 "nbformat_minor": 5
}
